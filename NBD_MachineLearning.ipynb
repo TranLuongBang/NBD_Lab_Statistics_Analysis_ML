{
  "nbformat": 4,
  "nbformat_minor": 0,
  "metadata": {
    "colab": {
      "name": "NBD_MachineLearning.ipynb",
      "provenance": [],
      "collapsed_sections": [],
      "machine_shape": "hm"
    },
    "kernelspec": {
      "name": "python3",
      "display_name": "Python 3"
    }
  },
  "cells": [
    {
      "cell_type": "markdown",
      "metadata": {
        "id": "ULp7D5ZvZbHI"
      },
      "source": [
        "# **Lab Project - Networking for Big Data**\n",
        "\n",
        "\n",
        "1.   **Tran Luong Bang - 1956419**\n",
        "2.   **Gaurav Mohan Ramse - 1965564**\n",
        "\n",
        "\n",
        "\n"
      ]
    },
    {
      "cell_type": "markdown",
      "metadata": {
        "id": "7VtQXc-_aiEK"
      },
      "source": [
        "## Install Libraries"
      ]
    },
    {
      "cell_type": "code",
      "metadata": {
        "id": "pafL7Li0jyXW",
        "colab": {
          "base_uri": "https://localhost:8080/"
        },
        "outputId": "36543f6c-8e55-4f51-b941-a7f8609dc72a"
      },
      "source": [
        "!pip install imbalanced-learn"
      ],
      "execution_count": 1,
      "outputs": [
        {
          "output_type": "stream",
          "text": [
            "Requirement already satisfied: imbalanced-learn in /usr/local/lib/python3.7/dist-packages (0.4.3)\n",
            "Requirement already satisfied: scikit-learn>=0.20 in /usr/local/lib/python3.7/dist-packages (from imbalanced-learn) (0.22.2.post1)\n",
            "Requirement already satisfied: numpy>=1.8.2 in /usr/local/lib/python3.7/dist-packages (from imbalanced-learn) (1.19.5)\n",
            "Requirement already satisfied: scipy>=0.13.3 in /usr/local/lib/python3.7/dist-packages (from imbalanced-learn) (1.4.1)\n",
            "Requirement already satisfied: joblib>=0.11 in /usr/local/lib/python3.7/dist-packages (from scikit-learn>=0.20->imbalanced-learn) (1.0.1)\n"
          ],
          "name": "stdout"
        }
      ]
    },
    {
      "cell_type": "markdown",
      "metadata": {
        "id": "X3_GsO1FapJv"
      },
      "source": [
        "## Import Libraries"
      ]
    },
    {
      "cell_type": "code",
      "metadata": {
        "id": "jzUjGOq8SAML",
        "colab": {
          "base_uri": "https://localhost:8080/"
        },
        "outputId": "c2563bf2-e31a-4af6-d8bd-056412c68c7c"
      },
      "source": [
        "import pandas as pd\n",
        "from sklearn.model_selection import train_test_split\n",
        "from collections import Counter\n",
        "from imblearn.over_sampling import SMOTE\n",
        "from sklearn.metrics import confusion_matrix\n",
        "import matplotlib.pyplot as plt\n",
        "import numpy as np\n",
        "from sklearn.metrics import classification_report\n",
        "import pickle\n",
        "from sklearn import datasets\n",
        "from sklearn.model_selection import train_test_split\n",
        "from sklearn.model_selection import GridSearchCV,RandomizedSearchCV\n",
        "from sklearn.metrics import classification_report\n",
        "from sklearn.svm import SVC\n",
        "from sklearn.decomposition import TruncatedSVD\n",
        "from scipy.sparse import random as sparse_random"
      ],
      "execution_count": 2,
      "outputs": [
        {
          "output_type": "stream",
          "text": [
            "/usr/local/lib/python3.7/dist-packages/sklearn/externals/six.py:31: FutureWarning: The module is deprecated in version 0.21 and will be removed in version 0.23 since we've dropped support for Python 2.7. Please rely on the official version of six (https://pypi.org/project/six/).\n",
            "  \"(https://pypi.org/project/six/).\", FutureWarning)\n",
            "/usr/local/lib/python3.7/dist-packages/sklearn/utils/deprecation.py:144: FutureWarning: The sklearn.neighbors.base module is  deprecated in version 0.22 and will be removed in version 0.24. The corresponding classes / functions should instead be imported from sklearn.neighbors. Anything that cannot be imported from sklearn.neighbors is now part of the private API.\n",
            "  warnings.warn(message, FutureWarning)\n"
          ],
          "name": "stderr"
        }
      ]
    },
    {
      "cell_type": "markdown",
      "metadata": {
        "id": "g8mZL56tavAh"
      },
      "source": [
        "## Import Data"
      ]
    },
    {
      "cell_type": "code",
      "metadata": {
        "colab": {
          "base_uri": "https://localhost:8080/"
        },
        "id": "mD_S-G1bSDzm",
        "outputId": "f9134a77-973b-4b51-fbe7-1c6fc98c375b"
      },
      "source": [
        "from google.colab import drive\n",
        "drive.mount('/content/gdrive')"
      ],
      "execution_count": 3,
      "outputs": [
        {
          "output_type": "stream",
          "text": [
            "Drive already mounted at /content/gdrive; to attempt to forcibly remount, call drive.mount(\"/content/gdrive\", force_remount=True).\n"
          ],
          "name": "stdout"
        }
      ]
    },
    {
      "cell_type": "code",
      "metadata": {
        "colab": {
          "base_uri": "https://localhost:8080/",
          "height": 416
        },
        "id": "wlRLpp30SGtb",
        "outputId": "ed1d30e4-3266-44ba-8df3-d760f38d9580"
      },
      "source": [
        "dataFrame = pd.read_csv('/content/gdrive/MyDrive/NBD_data/data_sequence.csv', usecols = ['IP_SRC', 'IP_DST', 'src_port', 'dst_port', 'Protocol','length', 'ttl', 'time'], header=0)\n",
        "dataFrame"
      ],
      "execution_count": 4,
      "outputs": [
        {
          "output_type": "execute_result",
          "data": {
            "text/html": [
              "<div>\n",
              "<style scoped>\n",
              "    .dataframe tbody tr th:only-of-type {\n",
              "        vertical-align: middle;\n",
              "    }\n",
              "\n",
              "    .dataframe tbody tr th {\n",
              "        vertical-align: top;\n",
              "    }\n",
              "\n",
              "    .dataframe thead th {\n",
              "        text-align: right;\n",
              "    }\n",
              "</style>\n",
              "<table border=\"1\" class=\"dataframe\">\n",
              "  <thead>\n",
              "    <tr style=\"text-align: right;\">\n",
              "      <th></th>\n",
              "      <th>length</th>\n",
              "      <th>Protocol</th>\n",
              "      <th>ttl</th>\n",
              "      <th>IP_SRC</th>\n",
              "      <th>IP_DST</th>\n",
              "      <th>src_port</th>\n",
              "      <th>dst_port</th>\n",
              "      <th>time</th>\n",
              "    </tr>\n",
              "  </thead>\n",
              "  <tbody>\n",
              "    <tr>\n",
              "      <th>0</th>\n",
              "      <td>95</td>\n",
              "      <td>17</td>\n",
              "      <td>57</td>\n",
              "      <td>23.53.35.140</td>\n",
              "      <td>131.137.126.25</td>\n",
              "      <td>53</td>\n",
              "      <td>48350</td>\n",
              "      <td>1.554872e+09</td>\n",
              "    </tr>\n",
              "    <tr>\n",
              "      <th>1</th>\n",
              "      <td>1420</td>\n",
              "      <td>6</td>\n",
              "      <td>56</td>\n",
              "      <td>150.57.136.251</td>\n",
              "      <td>221.244.225.179</td>\n",
              "      <td>80</td>\n",
              "      <td>64918</td>\n",
              "      <td>1.554872e+09</td>\n",
              "    </tr>\n",
              "    <tr>\n",
              "      <th>2</th>\n",
              "      <td>52</td>\n",
              "      <td>6</td>\n",
              "      <td>54</td>\n",
              "      <td>180.213.208.201</td>\n",
              "      <td>203.122.136.47</td>\n",
              "      <td>53480</td>\n",
              "      <td>80</td>\n",
              "      <td>1.554872e+09</td>\n",
              "    </tr>\n",
              "    <tr>\n",
              "      <th>3</th>\n",
              "      <td>52</td>\n",
              "      <td>6</td>\n",
              "      <td>54</td>\n",
              "      <td>180.213.208.201</td>\n",
              "      <td>203.122.136.47</td>\n",
              "      <td>53480</td>\n",
              "      <td>80</td>\n",
              "      <td>1.554872e+09</td>\n",
              "    </tr>\n",
              "    <tr>\n",
              "      <th>4</th>\n",
              "      <td>141</td>\n",
              "      <td>17</td>\n",
              "      <td>58</td>\n",
              "      <td>150.57.190.76</td>\n",
              "      <td>155.70.48.196</td>\n",
              "      <td>50821</td>\n",
              "      <td>27023</td>\n",
              "      <td>1.554872e+09</td>\n",
              "    </tr>\n",
              "    <tr>\n",
              "      <th>...</th>\n",
              "      <td>...</td>\n",
              "      <td>...</td>\n",
              "      <td>...</td>\n",
              "      <td>...</td>\n",
              "      <td>...</td>\n",
              "      <td>...</td>\n",
              "      <td>...</td>\n",
              "      <td>...</td>\n",
              "    </tr>\n",
              "    <tr>\n",
              "      <th>832763</th>\n",
              "      <td>1454</td>\n",
              "      <td>6</td>\n",
              "      <td>56</td>\n",
              "      <td>150.57.136.251</td>\n",
              "      <td>222.127.201.52</td>\n",
              "      <td>80</td>\n",
              "      <td>62620</td>\n",
              "      <td>1.554872e+09</td>\n",
              "    </tr>\n",
              "    <tr>\n",
              "      <th>832764</th>\n",
              "      <td>1500</td>\n",
              "      <td>6</td>\n",
              "      <td>60</td>\n",
              "      <td>150.57.136.251</td>\n",
              "      <td>66.132.46.70</td>\n",
              "      <td>873</td>\n",
              "      <td>8878</td>\n",
              "      <td>1.554872e+09</td>\n",
              "    </tr>\n",
              "    <tr>\n",
              "      <th>832765</th>\n",
              "      <td>1500</td>\n",
              "      <td>6</td>\n",
              "      <td>60</td>\n",
              "      <td>150.57.136.251</td>\n",
              "      <td>66.132.46.70</td>\n",
              "      <td>873</td>\n",
              "      <td>8878</td>\n",
              "      <td>1.554872e+09</td>\n",
              "    </tr>\n",
              "    <tr>\n",
              "      <th>832766</th>\n",
              "      <td>1500</td>\n",
              "      <td>6</td>\n",
              "      <td>60</td>\n",
              "      <td>150.57.136.251</td>\n",
              "      <td>66.132.46.70</td>\n",
              "      <td>873</td>\n",
              "      <td>8878</td>\n",
              "      <td>1.554872e+09</td>\n",
              "    </tr>\n",
              "    <tr>\n",
              "      <th>832767</th>\n",
              "      <td>40</td>\n",
              "      <td>6</td>\n",
              "      <td>124</td>\n",
              "      <td>172.201.24.110</td>\n",
              "      <td>131.137.54.7</td>\n",
              "      <td>443</td>\n",
              "      <td>52038</td>\n",
              "      <td>1.554872e+09</td>\n",
              "    </tr>\n",
              "  </tbody>\n",
              "</table>\n",
              "<p>832768 rows × 8 columns</p>\n",
              "</div>"
            ],
            "text/plain": [
              "        length  Protocol  ttl  ... src_port dst_port          time\n",
              "0           95        17   57  ...       53    48350  1.554872e+09\n",
              "1         1420         6   56  ...       80    64918  1.554872e+09\n",
              "2           52         6   54  ...    53480       80  1.554872e+09\n",
              "3           52         6   54  ...    53480       80  1.554872e+09\n",
              "4          141        17   58  ...    50821    27023  1.554872e+09\n",
              "...        ...       ...  ...  ...      ...      ...           ...\n",
              "832763    1454         6   56  ...       80    62620  1.554872e+09\n",
              "832764    1500         6   60  ...      873     8878  1.554872e+09\n",
              "832765    1500         6   60  ...      873     8878  1.554872e+09\n",
              "832766    1500         6   60  ...      873     8878  1.554872e+09\n",
              "832767      40         6  124  ...      443    52038  1.554872e+09\n",
              "\n",
              "[832768 rows x 8 columns]"
            ]
          },
          "metadata": {
            "tags": []
          },
          "execution_count": 4
        }
      ]
    },
    {
      "cell_type": "markdown",
      "metadata": {
        "id": "XRI_u36Va2dn"
      },
      "source": [
        "## Data Preprocessing"
      ]
    },
    {
      "cell_type": "markdown",
      "metadata": {
        "id": "vS4Ht4nib6gE"
      },
      "source": [
        "### Missing values"
      ]
    },
    {
      "cell_type": "code",
      "metadata": {
        "colab": {
          "base_uri": "https://localhost:8080/"
        },
        "id": "3J9TEBBZ2GqD",
        "outputId": "0eedf53d-3246-4a95-b949-f4255df5f362"
      },
      "source": [
        "dataFrame.isnull().sum()"
      ],
      "execution_count": 5,
      "outputs": [
        {
          "output_type": "execute_result",
          "data": {
            "text/plain": [
              "length      0\n",
              "Protocol    0\n",
              "ttl         0\n",
              "IP_SRC      0\n",
              "IP_DST      0\n",
              "src_port    0\n",
              "dst_port    0\n",
              "time        0\n",
              "dtype: int64"
            ]
          },
          "metadata": {
            "tags": []
          },
          "execution_count": 5
        }
      ]
    },
    {
      "cell_type": "markdown",
      "metadata": {
        "id": "CUq07rnKUZPF"
      },
      "source": [
        "### Interval time"
      ]
    },
    {
      "cell_type": "code",
      "metadata": {
        "colab": {
          "base_uri": "https://localhost:8080/",
          "height": 416
        },
        "id": "Riik8ugZwFRG",
        "outputId": "0a345186-12ca-43d5-e869-479c8a25b3be"
      },
      "source": [
        "dataFrame = dataFrame.assign(InterArrivalTime = dataFrame.groupby(['IP_SRC', 'IP_DST', 'Protocol', 'src_port', 'dst_port'], group_keys=False).apply(lambda x: x.time.diff()).fillna(0))\n",
        "dataFrame"
      ],
      "execution_count": 6,
      "outputs": [
        {
          "output_type": "execute_result",
          "data": {
            "text/html": [
              "<div>\n",
              "<style scoped>\n",
              "    .dataframe tbody tr th:only-of-type {\n",
              "        vertical-align: middle;\n",
              "    }\n",
              "\n",
              "    .dataframe tbody tr th {\n",
              "        vertical-align: top;\n",
              "    }\n",
              "\n",
              "    .dataframe thead th {\n",
              "        text-align: right;\n",
              "    }\n",
              "</style>\n",
              "<table border=\"1\" class=\"dataframe\">\n",
              "  <thead>\n",
              "    <tr style=\"text-align: right;\">\n",
              "      <th></th>\n",
              "      <th>length</th>\n",
              "      <th>Protocol</th>\n",
              "      <th>ttl</th>\n",
              "      <th>IP_SRC</th>\n",
              "      <th>IP_DST</th>\n",
              "      <th>src_port</th>\n",
              "      <th>dst_port</th>\n",
              "      <th>time</th>\n",
              "      <th>InterArrivalTime</th>\n",
              "    </tr>\n",
              "  </thead>\n",
              "  <tbody>\n",
              "    <tr>\n",
              "      <th>0</th>\n",
              "      <td>95</td>\n",
              "      <td>17</td>\n",
              "      <td>57</td>\n",
              "      <td>23.53.35.140</td>\n",
              "      <td>131.137.126.25</td>\n",
              "      <td>53</td>\n",
              "      <td>48350</td>\n",
              "      <td>1.554872e+09</td>\n",
              "      <td>0.000000</td>\n",
              "    </tr>\n",
              "    <tr>\n",
              "      <th>1</th>\n",
              "      <td>1420</td>\n",
              "      <td>6</td>\n",
              "      <td>56</td>\n",
              "      <td>150.57.136.251</td>\n",
              "      <td>221.244.225.179</td>\n",
              "      <td>80</td>\n",
              "      <td>64918</td>\n",
              "      <td>1.554872e+09</td>\n",
              "      <td>0.000000</td>\n",
              "    </tr>\n",
              "    <tr>\n",
              "      <th>2</th>\n",
              "      <td>52</td>\n",
              "      <td>6</td>\n",
              "      <td>54</td>\n",
              "      <td>180.213.208.201</td>\n",
              "      <td>203.122.136.47</td>\n",
              "      <td>53480</td>\n",
              "      <td>80</td>\n",
              "      <td>1.554872e+09</td>\n",
              "      <td>0.000000</td>\n",
              "    </tr>\n",
              "    <tr>\n",
              "      <th>3</th>\n",
              "      <td>52</td>\n",
              "      <td>6</td>\n",
              "      <td>54</td>\n",
              "      <td>180.213.208.201</td>\n",
              "      <td>203.122.136.47</td>\n",
              "      <td>53480</td>\n",
              "      <td>80</td>\n",
              "      <td>1.554872e+09</td>\n",
              "      <td>0.000005</td>\n",
              "    </tr>\n",
              "    <tr>\n",
              "      <th>4</th>\n",
              "      <td>141</td>\n",
              "      <td>17</td>\n",
              "      <td>58</td>\n",
              "      <td>150.57.190.76</td>\n",
              "      <td>155.70.48.196</td>\n",
              "      <td>50821</td>\n",
              "      <td>27023</td>\n",
              "      <td>1.554872e+09</td>\n",
              "      <td>0.000000</td>\n",
              "    </tr>\n",
              "    <tr>\n",
              "      <th>...</th>\n",
              "      <td>...</td>\n",
              "      <td>...</td>\n",
              "      <td>...</td>\n",
              "      <td>...</td>\n",
              "      <td>...</td>\n",
              "      <td>...</td>\n",
              "      <td>...</td>\n",
              "      <td>...</td>\n",
              "      <td>...</td>\n",
              "    </tr>\n",
              "    <tr>\n",
              "      <th>832763</th>\n",
              "      <td>1454</td>\n",
              "      <td>6</td>\n",
              "      <td>56</td>\n",
              "      <td>150.57.136.251</td>\n",
              "      <td>222.127.201.52</td>\n",
              "      <td>80</td>\n",
              "      <td>62620</td>\n",
              "      <td>1.554872e+09</td>\n",
              "      <td>0.000049</td>\n",
              "    </tr>\n",
              "    <tr>\n",
              "      <th>832764</th>\n",
              "      <td>1500</td>\n",
              "      <td>6</td>\n",
              "      <td>60</td>\n",
              "      <td>150.57.136.251</td>\n",
              "      <td>66.132.46.70</td>\n",
              "      <td>873</td>\n",
              "      <td>8878</td>\n",
              "      <td>1.554872e+09</td>\n",
              "      <td>0.003948</td>\n",
              "    </tr>\n",
              "    <tr>\n",
              "      <th>832765</th>\n",
              "      <td>1500</td>\n",
              "      <td>6</td>\n",
              "      <td>60</td>\n",
              "      <td>150.57.136.251</td>\n",
              "      <td>66.132.46.70</td>\n",
              "      <td>873</td>\n",
              "      <td>8878</td>\n",
              "      <td>1.554872e+09</td>\n",
              "      <td>0.000016</td>\n",
              "    </tr>\n",
              "    <tr>\n",
              "      <th>832766</th>\n",
              "      <td>1500</td>\n",
              "      <td>6</td>\n",
              "      <td>60</td>\n",
              "      <td>150.57.136.251</td>\n",
              "      <td>66.132.46.70</td>\n",
              "      <td>873</td>\n",
              "      <td>8878</td>\n",
              "      <td>1.554872e+09</td>\n",
              "      <td>0.000002</td>\n",
              "    </tr>\n",
              "    <tr>\n",
              "      <th>832767</th>\n",
              "      <td>40</td>\n",
              "      <td>6</td>\n",
              "      <td>124</td>\n",
              "      <td>172.201.24.110</td>\n",
              "      <td>131.137.54.7</td>\n",
              "      <td>443</td>\n",
              "      <td>52038</td>\n",
              "      <td>1.554872e+09</td>\n",
              "      <td>0.000095</td>\n",
              "    </tr>\n",
              "  </tbody>\n",
              "</table>\n",
              "<p>832768 rows × 9 columns</p>\n",
              "</div>"
            ],
            "text/plain": [
              "        length  Protocol  ttl  ... dst_port          time  InterArrivalTime\n",
              "0           95        17   57  ...    48350  1.554872e+09          0.000000\n",
              "1         1420         6   56  ...    64918  1.554872e+09          0.000000\n",
              "2           52         6   54  ...       80  1.554872e+09          0.000000\n",
              "3           52         6   54  ...       80  1.554872e+09          0.000005\n",
              "4          141        17   58  ...    27023  1.554872e+09          0.000000\n",
              "...        ...       ...  ...  ...      ...           ...               ...\n",
              "832763    1454         6   56  ...    62620  1.554872e+09          0.000049\n",
              "832764    1500         6   60  ...     8878  1.554872e+09          0.003948\n",
              "832765    1500         6   60  ...     8878  1.554872e+09          0.000016\n",
              "832766    1500         6   60  ...     8878  1.554872e+09          0.000002\n",
              "832767      40         6  124  ...    52038  1.554872e+09          0.000095\n",
              "\n",
              "[832768 rows x 9 columns]"
            ]
          },
          "metadata": {
            "tags": []
          },
          "execution_count": 6
        }
      ]
    },
    {
      "cell_type": "markdown",
      "metadata": {
        "id": "PrZqhRFcdGfJ"
      },
      "source": [
        "### Duplicate packets\n"
      ]
    },
    {
      "cell_type": "code",
      "metadata": {
        "colab": {
          "base_uri": "https://localhost:8080/",
          "height": 416
        },
        "id": "A_eWtffDxeHM",
        "outputId": "b335ee55-3e69-4693-e843-bc7873a6d6cd"
      },
      "source": [
        "dataFrame = dataFrame.groupby(['IP_SRC', 'IP_DST', 'Protocol', 'src_port', 'dst_port']).agg({'InterArrivalTime':'mean', 'length':'mean', 'ttl': 'mean'}).reset_index()\n",
        "dataFrame"
      ],
      "execution_count": 7,
      "outputs": [
        {
          "output_type": "execute_result",
          "data": {
            "text/html": [
              "<div>\n",
              "<style scoped>\n",
              "    .dataframe tbody tr th:only-of-type {\n",
              "        vertical-align: middle;\n",
              "    }\n",
              "\n",
              "    .dataframe tbody tr th {\n",
              "        vertical-align: top;\n",
              "    }\n",
              "\n",
              "    .dataframe thead th {\n",
              "        text-align: right;\n",
              "    }\n",
              "</style>\n",
              "<table border=\"1\" class=\"dataframe\">\n",
              "  <thead>\n",
              "    <tr style=\"text-align: right;\">\n",
              "      <th></th>\n",
              "      <th>IP_SRC</th>\n",
              "      <th>IP_DST</th>\n",
              "      <th>Protocol</th>\n",
              "      <th>src_port</th>\n",
              "      <th>dst_port</th>\n",
              "      <th>InterArrivalTime</th>\n",
              "      <th>length</th>\n",
              "      <th>ttl</th>\n",
              "    </tr>\n",
              "  </thead>\n",
              "  <tbody>\n",
              "    <tr>\n",
              "      <th>0</th>\n",
              "      <td>1.33.128.154</td>\n",
              "      <td>203.122.128.169</td>\n",
              "      <td>17</td>\n",
              "      <td>634</td>\n",
              "      <td>123</td>\n",
              "      <td>0.000000</td>\n",
              "      <td>76.0</td>\n",
              "      <td>53.0</td>\n",
              "    </tr>\n",
              "    <tr>\n",
              "      <th>1</th>\n",
              "      <td>10.0.0.31</td>\n",
              "      <td>202.239.228.38</td>\n",
              "      <td>17</td>\n",
              "      <td>57970</td>\n",
              "      <td>53</td>\n",
              "      <td>0.000000</td>\n",
              "      <td>65.0</td>\n",
              "      <td>118.0</td>\n",
              "    </tr>\n",
              "    <tr>\n",
              "      <th>2</th>\n",
              "      <td>10.1.200.200</td>\n",
              "      <td>202.239.228.38</td>\n",
              "      <td>17</td>\n",
              "      <td>58089</td>\n",
              "      <td>53</td>\n",
              "      <td>0.000000</td>\n",
              "      <td>68.0</td>\n",
              "      <td>119.0</td>\n",
              "    </tr>\n",
              "    <tr>\n",
              "      <th>3</th>\n",
              "      <td>10.1.6.2</td>\n",
              "      <td>202.239.228.38</td>\n",
              "      <td>1</td>\n",
              "      <td>-1</td>\n",
              "      <td>-1</td>\n",
              "      <td>0.380452</td>\n",
              "      <td>56.0</td>\n",
              "      <td>239.0</td>\n",
              "    </tr>\n",
              "    <tr>\n",
              "      <th>4</th>\n",
              "      <td>10.10.230.1</td>\n",
              "      <td>202.239.228.38</td>\n",
              "      <td>17</td>\n",
              "      <td>42070</td>\n",
              "      <td>53</td>\n",
              "      <td>0.000000</td>\n",
              "      <td>57.0</td>\n",
              "      <td>51.0</td>\n",
              "    </tr>\n",
              "    <tr>\n",
              "      <th>...</th>\n",
              "      <td>...</td>\n",
              "      <td>...</td>\n",
              "      <td>...</td>\n",
              "      <td>...</td>\n",
              "      <td>...</td>\n",
              "      <td>...</td>\n",
              "      <td>...</td>\n",
              "      <td>...</td>\n",
              "    </tr>\n",
              "    <tr>\n",
              "      <th>31437</th>\n",
              "      <td>96.226.38.235</td>\n",
              "      <td>131.137.9.254</td>\n",
              "      <td>17</td>\n",
              "      <td>53</td>\n",
              "      <td>63533</td>\n",
              "      <td>0.000000</td>\n",
              "      <td>141.0</td>\n",
              "      <td>58.0</td>\n",
              "    </tr>\n",
              "    <tr>\n",
              "      <th>31438</th>\n",
              "      <td>96.226.38.235</td>\n",
              "      <td>131.137.9.254</td>\n",
              "      <td>17</td>\n",
              "      <td>53</td>\n",
              "      <td>63677</td>\n",
              "      <td>0.000000</td>\n",
              "      <td>95.0</td>\n",
              "      <td>58.0</td>\n",
              "    </tr>\n",
              "    <tr>\n",
              "      <th>31439</th>\n",
              "      <td>96.226.38.235</td>\n",
              "      <td>131.137.9.254</td>\n",
              "      <td>17</td>\n",
              "      <td>53</td>\n",
              "      <td>64459</td>\n",
              "      <td>0.000000</td>\n",
              "      <td>95.0</td>\n",
              "      <td>58.0</td>\n",
              "    </tr>\n",
              "    <tr>\n",
              "      <th>31440</th>\n",
              "      <td>96.226.38.235</td>\n",
              "      <td>131.137.9.254</td>\n",
              "      <td>17</td>\n",
              "      <td>53</td>\n",
              "      <td>65472</td>\n",
              "      <td>0.000000</td>\n",
              "      <td>100.0</td>\n",
              "      <td>58.0</td>\n",
              "    </tr>\n",
              "    <tr>\n",
              "      <th>31441</th>\n",
              "      <td>96.226.38.235</td>\n",
              "      <td>133.245.253.247</td>\n",
              "      <td>17</td>\n",
              "      <td>53</td>\n",
              "      <td>62569</td>\n",
              "      <td>0.000000</td>\n",
              "      <td>98.0</td>\n",
              "      <td>58.0</td>\n",
              "    </tr>\n",
              "  </tbody>\n",
              "</table>\n",
              "<p>31442 rows × 8 columns</p>\n",
              "</div>"
            ],
            "text/plain": [
              "              IP_SRC           IP_DST  ...  length    ttl\n",
              "0       1.33.128.154  203.122.128.169  ...    76.0   53.0\n",
              "1          10.0.0.31   202.239.228.38  ...    65.0  118.0\n",
              "2       10.1.200.200   202.239.228.38  ...    68.0  119.0\n",
              "3           10.1.6.2   202.239.228.38  ...    56.0  239.0\n",
              "4        10.10.230.1   202.239.228.38  ...    57.0   51.0\n",
              "...              ...              ...  ...     ...    ...\n",
              "31437  96.226.38.235    131.137.9.254  ...   141.0   58.0\n",
              "31438  96.226.38.235    131.137.9.254  ...    95.0   58.0\n",
              "31439  96.226.38.235    131.137.9.254  ...    95.0   58.0\n",
              "31440  96.226.38.235    131.137.9.254  ...   100.0   58.0\n",
              "31441  96.226.38.235  133.245.253.247  ...    98.0   58.0\n",
              "\n",
              "[31442 rows x 8 columns]"
            ]
          },
          "metadata": {
            "tags": []
          },
          "execution_count": 7
        }
      ]
    },
    {
      "cell_type": "markdown",
      "metadata": {
        "id": "bJPV1PEGcBIB"
      },
      "source": [
        "### Target Variable"
      ]
    },
    {
      "cell_type": "code",
      "metadata": {
        "id": "9PRXLdZ1SXEz"
      },
      "source": [
        "# Replace Protocol Number to Keyword\n",
        "dataFrame[\"Protocol\"] = dataFrame[\"Protocol\"].replace({1:\"ICMP\",6:\"TCP\",17:\"UDP\", 50: \"ESP\", 4: \"IPv4\", 47:\"GRE\", 89: \"OSPFIGP\", 97: \"ETHERIP\", 103: \"PIM\"})"
      ],
      "execution_count": 8,
      "outputs": []
    },
    {
      "cell_type": "code",
      "metadata": {
        "colab": {
          "base_uri": "https://localhost:8080/",
          "height": 202
        },
        "id": "CbEIPbQ5SZqC",
        "outputId": "5cecb159-11b3-480c-bc8f-7fedeffb0b58"
      },
      "source": [
        "dataFrame.head()"
      ],
      "execution_count": 9,
      "outputs": [
        {
          "output_type": "execute_result",
          "data": {
            "text/html": [
              "<div>\n",
              "<style scoped>\n",
              "    .dataframe tbody tr th:only-of-type {\n",
              "        vertical-align: middle;\n",
              "    }\n",
              "\n",
              "    .dataframe tbody tr th {\n",
              "        vertical-align: top;\n",
              "    }\n",
              "\n",
              "    .dataframe thead th {\n",
              "        text-align: right;\n",
              "    }\n",
              "</style>\n",
              "<table border=\"1\" class=\"dataframe\">\n",
              "  <thead>\n",
              "    <tr style=\"text-align: right;\">\n",
              "      <th></th>\n",
              "      <th>IP_SRC</th>\n",
              "      <th>IP_DST</th>\n",
              "      <th>Protocol</th>\n",
              "      <th>src_port</th>\n",
              "      <th>dst_port</th>\n",
              "      <th>InterArrivalTime</th>\n",
              "      <th>length</th>\n",
              "      <th>ttl</th>\n",
              "    </tr>\n",
              "  </thead>\n",
              "  <tbody>\n",
              "    <tr>\n",
              "      <th>0</th>\n",
              "      <td>1.33.128.154</td>\n",
              "      <td>203.122.128.169</td>\n",
              "      <td>UDP</td>\n",
              "      <td>634</td>\n",
              "      <td>123</td>\n",
              "      <td>0.000000</td>\n",
              "      <td>76.0</td>\n",
              "      <td>53.0</td>\n",
              "    </tr>\n",
              "    <tr>\n",
              "      <th>1</th>\n",
              "      <td>10.0.0.31</td>\n",
              "      <td>202.239.228.38</td>\n",
              "      <td>UDP</td>\n",
              "      <td>57970</td>\n",
              "      <td>53</td>\n",
              "      <td>0.000000</td>\n",
              "      <td>65.0</td>\n",
              "      <td>118.0</td>\n",
              "    </tr>\n",
              "    <tr>\n",
              "      <th>2</th>\n",
              "      <td>10.1.200.200</td>\n",
              "      <td>202.239.228.38</td>\n",
              "      <td>UDP</td>\n",
              "      <td>58089</td>\n",
              "      <td>53</td>\n",
              "      <td>0.000000</td>\n",
              "      <td>68.0</td>\n",
              "      <td>119.0</td>\n",
              "    </tr>\n",
              "    <tr>\n",
              "      <th>3</th>\n",
              "      <td>10.1.6.2</td>\n",
              "      <td>202.239.228.38</td>\n",
              "      <td>ICMP</td>\n",
              "      <td>-1</td>\n",
              "      <td>-1</td>\n",
              "      <td>0.380452</td>\n",
              "      <td>56.0</td>\n",
              "      <td>239.0</td>\n",
              "    </tr>\n",
              "    <tr>\n",
              "      <th>4</th>\n",
              "      <td>10.10.230.1</td>\n",
              "      <td>202.239.228.38</td>\n",
              "      <td>UDP</td>\n",
              "      <td>42070</td>\n",
              "      <td>53</td>\n",
              "      <td>0.000000</td>\n",
              "      <td>57.0</td>\n",
              "      <td>51.0</td>\n",
              "    </tr>\n",
              "  </tbody>\n",
              "</table>\n",
              "</div>"
            ],
            "text/plain": [
              "         IP_SRC           IP_DST Protocol  ...  InterArrivalTime  length    ttl\n",
              "0  1.33.128.154  203.122.128.169      UDP  ...          0.000000    76.0   53.0\n",
              "1     10.0.0.31   202.239.228.38      UDP  ...          0.000000    65.0  118.0\n",
              "2  10.1.200.200   202.239.228.38      UDP  ...          0.000000    68.0  119.0\n",
              "3      10.1.6.2   202.239.228.38     ICMP  ...          0.380452    56.0  239.0\n",
              "4   10.10.230.1   202.239.228.38      UDP  ...          0.000000    57.0   51.0\n",
              "\n",
              "[5 rows x 8 columns]"
            ]
          },
          "metadata": {
            "tags": []
          },
          "execution_count": 9
        }
      ]
    },
    {
      "cell_type": "code",
      "metadata": {
        "colab": {
          "base_uri": "https://localhost:8080/"
        },
        "id": "jXLDy4LQScje",
        "outputId": "383715a4-335d-4215-992e-4e65568cb56f"
      },
      "source": [
        "dataFrame.Protocol.value_counts()"
      ],
      "execution_count": 10,
      "outputs": [
        {
          "output_type": "execute_result",
          "data": {
            "text/plain": [
              "TCP        11830\n",
              "ICMP       10615\n",
              "UDP         8976\n",
              "ESP            8\n",
              "IPv4           4\n",
              "GRE            3\n",
              "OSPFIGP        3\n",
              "ETHERIP        2\n",
              "PIM            1\n",
              "Name: Protocol, dtype: int64"
            ]
          },
          "metadata": {
            "tags": []
          },
          "execution_count": 10
        }
      ]
    },
    {
      "cell_type": "markdown",
      "metadata": {
        "id": "tIiuFBuAcfrD"
      },
      "source": [
        "We decided to explore data with protocols TCP, UDP, ICMP"
      ]
    },
    {
      "cell_type": "code",
      "metadata": {
        "id": "dCc_NMVfSmPG"
      },
      "source": [
        "dataFrame = dataFrame.loc[(dataFrame['Protocol'] == 'TCP') | (dataFrame['Protocol'] == 'UDP') | (dataFrame['Protocol'] == 'ICMP')]"
      ],
      "execution_count": 11,
      "outputs": []
    },
    {
      "cell_type": "code",
      "metadata": {
        "colab": {
          "base_uri": "https://localhost:8080/"
        },
        "id": "UFtokm70SoMU",
        "outputId": "ddbce13d-29ae-4470-9460-b1ea25efb72c"
      },
      "source": [
        "dataFrame.shape"
      ],
      "execution_count": 12,
      "outputs": [
        {
          "output_type": "execute_result",
          "data": {
            "text/plain": [
              "(31421, 8)"
            ]
          },
          "metadata": {
            "tags": []
          },
          "execution_count": 12
        }
      ]
    },
    {
      "cell_type": "markdown",
      "metadata": {
        "id": "c5XBuOtKePxF"
      },
      "source": [
        "### Transmission Pipeline"
      ]
    },
    {
      "cell_type": "code",
      "metadata": {
        "id": "wdN9--y0Sq48"
      },
      "source": [
        "X = dataFrame[['IP_SRC', 'IP_DST', 'src_port', 'dst_port', 'InterArrivalTime', 'length', 'ttl']]\n",
        "Y = dataFrame['Protocol']"
      ],
      "execution_count": 13,
      "outputs": []
    },
    {
      "cell_type": "code",
      "metadata": {
        "id": "4QUIGoXBS1Ek",
        "colab": {
          "base_uri": "https://localhost:8080/"
        },
        "outputId": "2475f13a-cac6-4a53-e8e1-3ad46f5a696c"
      },
      "source": [
        "from sklearn.pipeline import Pipeline\n",
        "from sklearn.preprocessing import StandardScaler\n",
        "from sklearn.impute import SimpleImputer\n",
        "from sklearn.preprocessing import OneHotEncoder\n",
        "from sklearn.compose import ColumnTransformer\n",
        "\n",
        "X = X.astype({\"src_port\": object, \"dst_port\": object})\n",
        "\n",
        "print(X.info())\n",
        "\n",
        "full_pipeline = ColumnTransformer([\n",
        "    ('encoder', OneHotEncoder(), ['IP_SRC', 'IP_DST', 'src_port', 'dst_port'])\n",
        "])\n",
        "\n",
        "X = full_pipeline.fit_transform(X)"
      ],
      "execution_count": 14,
      "outputs": [
        {
          "output_type": "stream",
          "text": [
            "<class 'pandas.core.frame.DataFrame'>\n",
            "Int64Index: 31421 entries, 0 to 31441\n",
            "Data columns (total 7 columns):\n",
            " #   Column            Non-Null Count  Dtype  \n",
            "---  ------            --------------  -----  \n",
            " 0   IP_SRC            31421 non-null  object \n",
            " 1   IP_DST            31421 non-null  object \n",
            " 2   src_port          31421 non-null  object \n",
            " 3   dst_port          31421 non-null  object \n",
            " 4   InterArrivalTime  31421 non-null  float64\n",
            " 5   length            31421 non-null  float64\n",
            " 6   ttl               31421 non-null  float64\n",
            "dtypes: float64(3), object(4)\n",
            "memory usage: 1.9+ MB\n",
            "None\n"
          ],
          "name": "stdout"
        }
      ]
    },
    {
      "cell_type": "code",
      "metadata": {
        "colab": {
          "base_uri": "https://localhost:8080/"
        },
        "id": "0yZ9P84jS3Xc",
        "outputId": "80a6e9f9-4d35-4f2a-ea88-4e95c1d95ada"
      },
      "source": [
        "X.shape"
      ],
      "execution_count": 15,
      "outputs": [
        {
          "output_type": "execute_result",
          "data": {
            "text/plain": [
              "(31421, 38239)"
            ]
          },
          "metadata": {
            "tags": []
          },
          "execution_count": 15
        }
      ]
    },
    {
      "cell_type": "code",
      "metadata": {
        "colab": {
          "base_uri": "https://localhost:8080/"
        },
        "id": "4ihzEh1K64XO",
        "outputId": "e6d9617d-21b1-4304-a477-2a829fa3d0f3"
      },
      "source": [
        "Y.shape"
      ],
      "execution_count": 16,
      "outputs": [
        {
          "output_type": "execute_result",
          "data": {
            "text/plain": [
              "(31421,)"
            ]
          },
          "metadata": {
            "tags": []
          },
          "execution_count": 16
        }
      ]
    },
    {
      "cell_type": "markdown",
      "metadata": {
        "id": "5vA8VDzveYEg"
      },
      "source": [
        "### Dimentionality Reduction "
      ]
    },
    {
      "cell_type": "code",
      "metadata": {
        "id": "KycBQnDVS5jb"
      },
      "source": [
        "svd = TruncatedSVD(n_components=500, n_iter=5, random_state=42)\n",
        "svdTFit = svd.fit_transform(X)"
      ],
      "execution_count": 17,
      "outputs": []
    },
    {
      "cell_type": "code",
      "metadata": {
        "colab": {
          "base_uri": "https://localhost:8080/"
        },
        "id": "tIzIiciXS-mv",
        "outputId": "6395e20d-4a69-4856-c706-cff131dfd512"
      },
      "source": [
        "print(svd.explained_variance_ratio_.sum())"
      ],
      "execution_count": 18,
      "outputs": [
        {
          "output_type": "stream",
          "text": [
            "0.5609109784375944\n"
          ],
          "name": "stdout"
        }
      ]
    },
    {
      "cell_type": "code",
      "metadata": {
        "colab": {
          "base_uri": "https://localhost:8080/"
        },
        "id": "znkuRKS-TA0V",
        "outputId": "a917b051-8e01-4056-bf9d-3a586ffea482"
      },
      "source": [
        "svdTFit.shape"
      ],
      "execution_count": 19,
      "outputs": [
        {
          "output_type": "execute_result",
          "data": {
            "text/plain": [
              "(31421, 500)"
            ]
          },
          "metadata": {
            "tags": []
          },
          "execution_count": 19
        }
      ]
    },
    {
      "cell_type": "markdown",
      "metadata": {
        "id": "X6JkQpHzfBK6"
      },
      "source": [
        "### Split Data"
      ]
    },
    {
      "cell_type": "code",
      "metadata": {
        "id": "_Rsw0usFTGx6"
      },
      "source": [
        "x_train, x_test, y_train, y_test = train_test_split(svdTFit, Y, test_size = 0.25, random_state = 0)"
      ],
      "execution_count": 20,
      "outputs": []
    },
    {
      "cell_type": "code",
      "metadata": {
        "colab": {
          "base_uri": "https://localhost:8080/"
        },
        "id": "0Md2zCzhqFDe",
        "outputId": "c078f907-00a6-4f5f-f3a1-95b253a69eb2"
      },
      "source": [
        "x_train.shape"
      ],
      "execution_count": 21,
      "outputs": [
        {
          "output_type": "execute_result",
          "data": {
            "text/plain": [
              "(23565, 500)"
            ]
          },
          "metadata": {
            "tags": []
          },
          "execution_count": 21
        }
      ]
    },
    {
      "cell_type": "code",
      "metadata": {
        "colab": {
          "base_uri": "https://localhost:8080/"
        },
        "id": "_MHGTtgGqIbN",
        "outputId": "0d038df0-d4fd-4120-fa72-589b6e12f9de"
      },
      "source": [
        "x_test.shape"
      ],
      "execution_count": 22,
      "outputs": [
        {
          "output_type": "execute_result",
          "data": {
            "text/plain": [
              "(7856, 500)"
            ]
          },
          "metadata": {
            "tags": []
          },
          "execution_count": 22
        }
      ]
    },
    {
      "cell_type": "markdown",
      "metadata": {
        "id": "CgfJU_5ffFVJ"
      },
      "source": [
        "### Class Imbalance\n",
        "we use SMOTE to oversample the train dataset"
      ]
    },
    {
      "cell_type": "code",
      "metadata": {
        "colab": {
          "base_uri": "https://localhost:8080/"
        },
        "id": "aWgnShksburC",
        "outputId": "2c9a6b76-6a00-4611-8035-617a8bab7677"
      },
      "source": [
        "#Before Oversampling\n",
        "print(\"train: \", Counter(y_train))"
      ],
      "execution_count": 23,
      "outputs": [
        {
          "output_type": "stream",
          "text": [
            "train:  Counter({'TCP': 8846, 'ICMP': 7977, 'UDP': 6742})\n"
          ],
          "name": "stdout"
        }
      ]
    },
    {
      "cell_type": "code",
      "metadata": {
        "colab": {
          "base_uri": "https://localhost:8080/"
        },
        "id": "mVYs2cs1TNMB",
        "outputId": "436b6ead-b97c-4e36-920b-bb4ff3347d26"
      },
      "source": [
        "oversample = SMOTE()\n",
        "x_over, y_over = oversample.fit_resample(x_train, y_train)"
      ],
      "execution_count": 24,
      "outputs": [
        {
          "output_type": "stream",
          "text": [
            "/usr/local/lib/python3.7/dist-packages/sklearn/utils/deprecation.py:87: FutureWarning: Function safe_indexing is deprecated; safe_indexing is deprecated in version 0.22 and will be removed in version 0.24.\n",
            "  warnings.warn(msg, category=FutureWarning)\n",
            "/usr/local/lib/python3.7/dist-packages/sklearn/utils/deprecation.py:87: FutureWarning: Function safe_indexing is deprecated; safe_indexing is deprecated in version 0.22 and will be removed in version 0.24.\n",
            "  warnings.warn(msg, category=FutureWarning)\n"
          ],
          "name": "stderr"
        }
      ]
    },
    {
      "cell_type": "code",
      "metadata": {
        "colab": {
          "base_uri": "https://localhost:8080/"
        },
        "id": "qQyjOTWATP7x",
        "outputId": "f3b180ab-c001-4468-ba2b-0103f1d76ce4"
      },
      "source": [
        "# After oversampling\n",
        "print(\"train: \", Counter(y_over))"
      ],
      "execution_count": 25,
      "outputs": [
        {
          "output_type": "stream",
          "text": [
            "train:  Counter({'TCP': 8846, 'ICMP': 8846, 'UDP': 8846})\n"
          ],
          "name": "stdout"
        }
      ]
    },
    {
      "cell_type": "markdown",
      "metadata": {
        "id": "7m2_QgYXfXXw"
      },
      "source": [
        "## Classified Model"
      ]
    },
    {
      "cell_type": "markdown",
      "metadata": {
        "id": "O_wZLp6-PTzs"
      },
      "source": [
        "### Support Vector Machine\n",
        "\n",
        "\n",
        "\n"
      ]
    },
    {
      "cell_type": "markdown",
      "metadata": {
        "id": "16jcNlIGQVXU"
      },
      "source": [
        "**Hyperparameter Tuning**"
      ]
    },
    {
      "cell_type": "code",
      "metadata": {
        "id": "ZY0aQLuSTW9B"
      },
      "source": [
        "# Hyperparameter tuning\n",
        "tuned_parameters = [{'kernel': ['rbf'], 'gamma': [1e-3, 1e-4],\n",
        "                     'C': [1, 10]},\n",
        "                    {'kernel': ['linear'], 'C': [1, 10]}]"
      ],
      "execution_count": 26,
      "outputs": []
    },
    {
      "cell_type": "code",
      "metadata": {
        "id": "R-XPyOQqTZ97"
      },
      "source": [
        "# Random Search CV\n",
        "clf = RandomizedSearchCV(SVC(), tuned_parameters , cv=5, n_jobs= -1)"
      ],
      "execution_count": 27,
      "outputs": []
    },
    {
      "cell_type": "markdown",
      "metadata": {
        "id": "VP5Qomg_QelK"
      },
      "source": [
        "**Fitting model**"
      ]
    },
    {
      "cell_type": "code",
      "metadata": {
        "id": "X7H-CVe0TeZB",
        "colab": {
          "base_uri": "https://localhost:8080/"
        },
        "outputId": "4cc4830c-5f12-46db-9626-e2a1ead6e9c9"
      },
      "source": [
        "%%time\n",
        "# clf.fit(x_over, y_over)"
      ],
      "execution_count": 28,
      "outputs": [
        {
          "output_type": "stream",
          "text": [
            "CPU times: user 3 µs, sys: 0 ns, total: 3 µs\n",
            "Wall time: 8.11 µs\n"
          ],
          "name": "stdout"
        }
      ]
    },
    {
      "cell_type": "code",
      "metadata": {
        "id": "7Z2-pyAjTjDN"
      },
      "source": [
        "# save the model to disk\n",
        "filename = '/content/gdrive/MyDrive/NBD_data/final_model.sav'\n",
        "# pickle.dump(clf, open(filename, 'wb'))\n",
        " \n",
        "# load the model from disk\n",
        "loaded_model = pickle.load(open(filename, 'rb'))"
      ],
      "execution_count": 29,
      "outputs": []
    },
    {
      "cell_type": "markdown",
      "metadata": {
        "id": "lgihB3PRQk4I"
      },
      "source": [
        "**Evaluation metrics**"
      ]
    },
    {
      "cell_type": "code",
      "metadata": {
        "id": "kDDT9OkQUmmo",
        "colab": {
          "base_uri": "https://localhost:8080/"
        },
        "outputId": "55bf1ecf-33c0-445e-903d-156cdbb6d516"
      },
      "source": [
        "y_pred = loaded_model.predict(x_test)\n",
        "print(loaded_model.score(x_test, y_test))"
      ],
      "execution_count": 30,
      "outputs": [
        {
          "output_type": "stream",
          "text": [
            "0.9623217922606925\n"
          ],
          "name": "stdout"
        }
      ]
    },
    {
      "cell_type": "code",
      "metadata": {
        "id": "yYWEP7_Tmcan",
        "colab": {
          "base_uri": "https://localhost:8080/"
        },
        "outputId": "6bbab60a-4bc5-4ec8-ba24-f67049215da1"
      },
      "source": [
        "print('The best parameters:', loaded_model.best_params_)"
      ],
      "execution_count": 31,
      "outputs": [
        {
          "output_type": "stream",
          "text": [
            "The best parameters: {'kernel': 'linear', 'C': 10}\n"
          ],
          "name": "stdout"
        }
      ]
    },
    {
      "cell_type": "code",
      "metadata": {
        "id": "ACPFZ1tnWCEI",
        "colab": {
          "base_uri": "https://localhost:8080/",
          "height": 565
        },
        "outputId": "44bfde69-314a-4eae-9b9c-f30322f0233e"
      },
      "source": [
        "def plot_confusion_matrix(df_confusion, title='Confusion matrix', cmap=plt.cm.gist_heat_r):\n",
        "    \n",
        "    '''Confusion Matrix Evaluation'''\n",
        "    \n",
        "    plt.figure(figsize=(9,9))\n",
        "    plt.matshow(df_confusion, cmap=cmap,fignum=1) # imshow\n",
        "    \n",
        "    for (i, j), z in np.ndenumerate(df_confusion):\n",
        "        plt.text(j, i, '{:0.2f}'.format(z), ha='center', va='center',\n",
        "                 bbox=dict(boxstyle='round', facecolor='white'))\n",
        "    \n",
        "    #plt.title(title)\n",
        "    plt.colorbar()\n",
        "    tick_marks = np.arange(len(df_confusion.columns))\n",
        "    plt.xticks(tick_marks, df_confusion.columns, rotation=45,fontsize = 13)\n",
        "    plt.gca().xaxis.tick_bottom()\n",
        "    plt.yticks(tick_marks, df_confusion.index,fontsize = 13)\n",
        "    plt.tight_layout()\n",
        "    plt.ylabel(\"True\",fontsize = 18)\n",
        "    plt.xlabel(\"Predicted\",fontsize = 18)\n",
        "    plt.grid(False)\n",
        "    plt.show()\n",
        "\n",
        "labels = [ \"ICMP\", \"TCP\",\"UDP\"]\n",
        "confmatrix = confusion_matrix(y_test, y_pred,\n",
        "                 labels=labels)\n",
        "\n",
        "df_confusion = pd.DataFrame(confmatrix, index=labels, columns=labels)\n",
        "#Normalizing the matrix\n",
        "df_conf_norm = df_confusion.div(df_confusion.sum(axis=1),axis=0)\n",
        "\n",
        "plot_confusion_matrix(df_conf_norm)\n"
      ],
      "execution_count": 32,
      "outputs": [
        {
          "output_type": "stream",
          "text": [
            "/usr/local/lib/python3.7/dist-packages/ipykernel_launcher.py:18: UserWarning: This figure includes Axes that are not compatible with tight_layout, so results might be incorrect.\n"
          ],
          "name": "stderr"
        },
        {
          "output_type": "display_data",
          "data": {
            "image/png": "[encoded data removed]",
            "text/plain": [
              "<Figure size 648x648 with 2 Axes>"
            ]
          },
          "metadata": {
            "tags": [],
            "needs_background": "light"
          }
        }
      ]
    },
    {
      "cell_type": "code",
      "metadata": {
        "id": "HnqHaDvzmwlF",
        "colab": {
          "base_uri": "https://localhost:8080/"
        },
        "outputId": "5b5a5031-b1b8-469b-e368-20794ec748a2"
      },
      "source": [
        "print(classification_report(y_test, y_pred))"
      ],
      "execution_count": 33,
      "outputs": [
        {
          "output_type": "stream",
          "text": [
            "              precision    recall  f1-score   support\n",
            "\n",
            "        ICMP       1.00      1.00      1.00      2638\n",
            "         TCP       0.95      0.95      0.95      2984\n",
            "         UDP       0.93      0.93      0.93      2234\n",
            "\n",
            "    accuracy                           0.96      7856\n",
            "   macro avg       0.96      0.96      0.96      7856\n",
            "weighted avg       0.96      0.96      0.96      7856\n",
            "\n"
          ],
          "name": "stdout"
        }
      ]
    },
    {
      "cell_type": "markdown",
      "metadata": {
        "id": "R0BDeHXLQrwg"
      },
      "source": [
        "### Random Forest"
      ]
    },
    {
      "cell_type": "markdown",
      "metadata": {
        "id": "Pwb9oTrLQy95"
      },
      "source": [
        "**Hyperparameter Tuning**"
      ]
    },
    {
      "cell_type": "code",
      "metadata": {
        "id": "Vz4HCTK_8hY9"
      },
      "source": [
        "from sklearn.ensemble import RandomForestClassifier\n",
        "forest = RandomForestClassifier(random_state = 1)"
      ],
      "execution_count": 34,
      "outputs": []
    },
    {
      "cell_type": "code",
      "metadata": {
        "id": "SOCVefCW8hb6"
      },
      "source": [
        "n_estimators = [100, 300,]\n",
        "max_depth = [5, 8, 15, ]\n",
        "min_samples_split = [2, 5]\n",
        "min_samples_leaf = [2, 5] \n",
        "\n",
        "hyperF = dict(n_estimators = n_estimators, max_depth = max_depth,  \n",
        "              min_samples_split = min_samples_split, \n",
        "             min_samples_leaf = min_samples_leaf)\n",
        "\n",
        "gridF = GridSearchCV(forest, hyperF, cv = 3, verbose = 1, \n",
        "                      n_jobs = -1)"
      ],
      "execution_count": 35,
      "outputs": []
    },
    {
      "cell_type": "markdown",
      "metadata": {
        "id": "pP1-uU2yQ4tm"
      },
      "source": [
        "**Fitting model**"
      ]
    },
    {
      "cell_type": "code",
      "metadata": {
        "id": "-4d1Tz3wUDBH"
      },
      "source": [
        "# bestF = gridF.fit(x_over, y_over)"
      ],
      "execution_count": 36,
      "outputs": []
    },
    {
      "cell_type": "code",
      "metadata": {
        "id": "Y_0esaWWlLT2"
      },
      "source": [
        "# save the model to disk\n",
        "filename = '/content/gdrive/MyDrive/NBD_data/Random_Forest_model.sav'\n",
        "# pickle.dump(bestF, open(filename, 'wb'))\n",
        " \n",
        "# load the model from disk\n",
        "loaded_model = pickle.load(open(filename, 'rb'))"
      ],
      "execution_count": 37,
      "outputs": []
    },
    {
      "cell_type": "markdown",
      "metadata": {
        "id": "mwOBZuJtQ8pU"
      },
      "source": [
        "**Evaluation Metrics**"
      ]
    },
    {
      "cell_type": "code",
      "metadata": {
        "colab": {
          "base_uri": "https://localhost:8080/"
        },
        "id": "jpE9iabqlLW7",
        "outputId": "2a689626-9db4-4361-ff07-2b3f7dc16e2c"
      },
      "source": [
        "y_pred = loaded_model.predict(x_test)\n",
        "print(loaded_model.score(x_test, y_test))"
      ],
      "execution_count": 38,
      "outputs": [
        {
          "output_type": "stream",
          "text": [
            "0.9615580448065173\n"
          ],
          "name": "stdout"
        }
      ]
    },
    {
      "cell_type": "code",
      "metadata": {
        "colab": {
          "base_uri": "https://localhost:8080/",
          "height": 565
        },
        "id": "CDJu71oxlWL5",
        "outputId": "057ae2e3-dfef-4aff-a7a1-2ad2fa289f3a"
      },
      "source": [
        "labels = [ \"ICMP\", \"TCP\",\"UDP\"]\n",
        "confmatrix = confusion_matrix(y_test, y_pred,\n",
        "                 labels=labels)\n",
        "\n",
        "df_confusion = pd.DataFrame(confmatrix, index=labels, columns=labels)\n",
        "#Normalizing the matrix\n",
        "df_conf_norm = df_confusion.div(df_confusion.sum(axis=1),axis=0)\n",
        "\n",
        "plot_confusion_matrix(df_conf_norm)"
      ],
      "execution_count": 39,
      "outputs": [
        {
          "output_type": "stream",
          "text": [
            "/usr/local/lib/python3.7/dist-packages/ipykernel_launcher.py:18: UserWarning: This figure includes Axes that are not compatible with tight_layout, so results might be incorrect.\n"
          ],
          "name": "stderr"
        },
        {
          "output_type": "display_data",
          "data": {
            "image/png": "[encoded data removed]",
            "text/plain": [
              "<Figure size 648x648 with 2 Axes>"
            ]
          },
          "metadata": {
            "tags": [],
            "needs_background": "light"
          }
        }
      ]
    },
    {
      "cell_type": "code",
      "metadata": {
        "colab": {
          "base_uri": "https://localhost:8080/"
        },
        "id": "D5szPP8VlWPV",
        "outputId": "79e00c34-2749-4654-c1f9-7df5815a853e"
      },
      "source": [
        "print(classification_report(y_test, y_pred))"
      ],
      "execution_count": 40,
      "outputs": [
        {
          "output_type": "stream",
          "text": [
            "              precision    recall  f1-score   support\n",
            "\n",
            "        ICMP       1.00      1.00      1.00      2638\n",
            "         TCP       0.94      0.96      0.95      2984\n",
            "         UDP       0.95      0.91      0.93      2234\n",
            "\n",
            "    accuracy                           0.96      7856\n",
            "   macro avg       0.96      0.96      0.96      7856\n",
            "weighted avg       0.96      0.96      0.96      7856\n",
            "\n"
          ],
          "name": "stdout"
        }
      ]
    }
  ]
}